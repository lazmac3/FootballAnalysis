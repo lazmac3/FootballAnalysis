{
 "cells": [
  {
   "cell_type": "markdown",
   "id": "b5fddf74",
   "metadata": {},
   "source": [
    "Goals, Shots, corners, cards from 2022/3 season calculated 10042023"
   ]
  },
  {
   "cell_type": "markdown",
   "id": "67a2bff0",
   "metadata": {},
   "source": [
    "https://www.football-data.co.uk/englandm.php"
   ]
  },
  {
   "cell_type": "markdown",
   "id": "a56da4f8",
   "metadata": {},
   "source": [
    "Average number of goals\n",
    "\n",
    "Premier, 782/286, 2.73\n",
    "Championship, 1157/477, 2.43\n",
    "League 1, 1201/474, 2.53\n",
    "League 2, 1099/476, 2.31\n",
    "Scottish Premier, 530/180, 2.94\n",
    "Scottish Championships, 437/152, 2.88"
   ]
  },
  {
   "cell_type": "markdown",
   "id": "433230b9",
   "metadata": {},
   "source": [
    "3 or 4\n",
    "\n",
    "Premier, 101/286, 0.35\n",
    "Championship, 160/477, 0.34\n",
    "League 1, 167/474, 0.35\n",
    "League 2, 146/476, 0.31\n",
    "Scottish Premier, 75/180, 0.42\n",
    "Scottish Championships, 52/152, 0.34"
   ]
  },
  {
   "cell_type": "markdown",
   "id": "2545cea1",
   "metadata": {},
   "source": [
    "Premier League Full Time Goals\n",
    "\n",
    "Average Home Goals, 1.59\n",
    "Average Away Goals, 1.14\n",
    "Average Total Goals, 2.73\n",
    "\n",
    "Home Win, 135, 0.47\n",
    "Draw, 69, 0.24\n",
    "Away Win, 82, 0.29\n"
   ]
  },
  {
   "cell_type": "markdown",
   "id": "34751992",
   "metadata": {},
   "source": [
    "Premier League Half Time Goals\n",
    "\n",
    "Average Home Goals, 0.69\n",
    "Average Away Goals, 0.54\n",
    "Average Total Goals, 1.23\n",
    "\n",
    "Home Win, 98, 0.35\n",
    "Draw, 116, 0.1\n",
    "Away Win, 72, 0.25"
   ]
  },
  {
   "cell_type": "markdown",
   "id": "64ac5f1c",
   "metadata": {},
   "source": [
    "Premier League HT-FT\n",
    "\n",
    "HH, 81, 0.28\n",
    "HD, 44, 0.15\n",
    "HA, 10, 0.035\n",
    "DH, 11, 0.0.38\n",
    "DD, 43, 0.15\n",
    "DA, 15,0.052\n",
    "AH, 6, 0.02\n",
    "AD, 29,0.1\n",
    "AA, 47,0.16\n",
    "\n",
    "\n"
   ]
  }
 ],
 "metadata": {
  "kernelspec": {
   "display_name": "Python 3 (ipykernel)",
   "language": "python",
   "name": "python3"
  },
  "language_info": {
   "codemirror_mode": {
    "name": "ipython",
    "version": 3
   },
   "file_extension": ".py",
   "mimetype": "text/x-python",
   "name": "python",
   "nbconvert_exporter": "python",
   "pygments_lexer": "ipython3",
   "version": "3.8.8"
  }
 },
 "nbformat": 4,
 "nbformat_minor": 5
}
