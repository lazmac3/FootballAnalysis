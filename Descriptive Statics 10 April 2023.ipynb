{
 "cells": [
  {
   "cell_type": "markdown",
   "id": "b5fddf74",
   "metadata": {},
   "source": [
    "#### Goals, Shots, corners, cards from 2022/3 season calculated 10042023"
   ]
  },
  {
   "cell_type": "markdown",
   "id": "67a2bff0",
   "metadata": {},
   "source": [
    "https://www.football-data.co.uk/englandm.php"
   ]
  },
  {
   "cell_type": "markdown",
   "id": "a56da4f8",
   "metadata": {},
   "source": [
    "#### Average number of goals\n",
    "\n",
    "Premier, 782/286, 2.73\\\n",
    "Championship, 1157/477, 2.43\\\n",
    "League 1, 1201/474, 2.53\\\n",
    "League 2, 1099/476, 2.31\\\n",
    "Scottish Premier, 530/180, 2.94\\\n",
    "Scottish Championships, 437/152, 2.88"
   ]
  },
  {
   "cell_type": "markdown",
   "id": "433230b9",
   "metadata": {},
   "source": [
    "#### 3 or 4\n",
    "\n",
    "Premier, 101/286, 0.35\\\n",
    "Championship, 160/477, 0.34\\\n",
    "League 1, 167/474, 0.35\\\n",
    "League 2, 146/476, 0.31\\\n",
    "Scottish Premier, 75/180, 0.42\\\n",
    "Scottish Championships, 52/152, 0.34"
   ]
  },
  {
   "cell_type": "markdown",
   "id": "5d4f11b2",
   "metadata": {},
   "source": [
    "#### Premier League Result\n",
    "\n",
    "Home Win, 135, 0.47\\\n",
    "Draw, 69, 0.24\\\n",
    "Away Win, 82, 0.29"
   ]
  },
  {
   "cell_type": "markdown",
   "id": "2545cea1",
   "metadata": {},
   "source": [
    "#### Premier League Full Time Goals\n",
    "\n",
    "Average Home Goals, 1.59\\\n",
    "Average Away Goals, 1.14\\\n",
    "Average Total Goals, 2.73\n",
    "\n",
    "Standard Deviation (Total Goals) 1.75\\\n"
   ]
  },
  {
   "cell_type": "markdown",
   "id": "34751992",
   "metadata": {},
   "source": [
    "#### Premier League Half Time Goals\n",
    "\n",
    "Average Home Goals, 0.69\\\n",
    "Average Away Goals, 0.54\\\n",
    "Average Total Goals, 1.23\n",
    "\n",
    "Standard Deviation (Total Goals) 1.1\\\n",
    "\n",
    "Home Win, 98, 0.35\\\n",
    "Draw, 116, 0.1\\\n",
    "Away Win, 72, 0.25\n",
    "\n"
   ]
  },
  {
   "cell_type": "markdown",
   "id": "64ac5f1c",
   "metadata": {},
   "source": [
    "#### Premier League HT-FT\n",
    "\n",
    "HH, 81, 0.28\\\n",
    "HD, 44, 0.15\\\n",
    "HA, 10, 0.035\\\n",
    "DH, 11, 0.0.38\\\n",
    "DD, 43, 0.15\\\n",
    "DA, 15,0.052\\\n",
    "AH, 6, 0.02\\\n",
    "AD, 29,0.1\\\n",
    "AA, 47,0.16\n"
   ]
  },
  {
   "cell_type": "markdown",
   "id": "9ab4e33f",
   "metadata": {},
   "source": [
    "#### Second Half Goals\n",
    "\n",
    "Average Home Goals, 0.91\\\n",
    "Average Away Goals, 0.6\\\n",
    "Average Total Goals, 1.51"
   ]
  },
  {
   "cell_type": "markdown",
   "id": "d599e943",
   "metadata": {},
   "source": [
    "#### Shots\n",
    "\n",
    "Average Home Shots, 13.8\\\n",
    "Average Away Shots, 11.16\\\n",
    "Average Total Shots, 24.97\n",
    "\n",
    "Standard Deviation (Total Shots), 5.6\n",
    "\n"
   ]
  },
  {
   "cell_type": "markdown",
   "id": "62ae04eb",
   "metadata": {},
   "source": [
    "#### Shots on Target\n",
    "\n",
    "\n",
    "Average Home Shots on target, 4.83\\\n",
    "Average Away Shots on target, 3.81\\\n",
    "Average Total Shots on target, 8.64\n",
    "\n",
    "Standard Deviation (Total Shots on Target), 3.1"
   ]
  },
  {
   "cell_type": "markdown",
   "id": "6635a804",
   "metadata": {},
   "source": [
    "#### Fouls\n",
    "\n",
    "Home Fouls, 10.6\\\n",
    "Away Fouls, 10.8\\\n",
    "Total Fouls, 21.48\n",
    "\n",
    "Standard Deviation (Total Fouls), 5.21"
   ]
  },
  {
   "cell_type": "markdown",
   "id": "4bba4eaf",
   "metadata": {},
   "source": [
    "#### Corners\n",
    "\n",
    "Home Corners, 5.6\\\n",
    "Away Corners, 4.4\\\n",
    "Total Corners, 10.04\n",
    "\n",
    "Standard Deviation (Total Corners), 3.35"
   ]
  },
  {
   "cell_type": "markdown",
   "id": "3dfba982",
   "metadata": {},
   "source": [
    "#### Yellow Cards\n",
    "\n",
    "Home Yellow Cards, 1.69\\\n",
    "Away Yellow Cards, 1.93\\\n",
    "Total Yellow Cards, 3.62\n",
    "\n",
    "Standard Deviation (Total Yellow Cards), 1.89"
   ]
  },
  {
   "cell_type": "markdown",
   "id": "ec3e5558",
   "metadata": {},
   "source": [
    "#### Red Cards\n",
    "\n",
    "Home Red Cards, 0.06\\\n",
    "Away Red Cards, 0.03\\\n",
    "Total Red Cards, 0.09\n",
    "\n",
    "Standard Deviation (Total Red Cards), 0.31"
   ]
  },
  {
   "cell_type": "markdown",
   "id": "1ccace9d",
   "metadata": {},
   "source": [
    "#### Average Max Odds\n",
    "\n",
    "(stake removed)\n",
    "\n",
    "Home Win, 2.05, 48.8%\\\n",
    "Draw, 3.42, 29.2\\\n",
    "Away Win, 4.02,24.09\n",
    "\n",
    "Overround 2.8%\\\n",
    "\n",
    "#### Average Average Odds\n",
    "\n",
    "Home Win, 1.9, 52.63%\\\n",
    "Draw, 3.19, 31.35%\\\n",
    "Away Win, 3.58, 27.93%\n",
    "\n",
    "Overround 11.91%\n",
    "\n",
    "\n",
    "#### Difference between best and average odds\n",
    "\n",
    "Home win, 0.15\\\n",
    "Draw, 0.23\\\n",
    "Away win, 0.45"
   ]
  },
  {
   "cell_type": "markdown",
   "id": "03fb4129",
   "metadata": {},
   "source": [
    "#### Naive Strategies\n",
    "\n",
    "###### £1 pounds stake (286 matches) \\\n",
    "##### Max Odds same result\n",
    "\n",
    "Home win, £36.03 (+12.6%)\\\n",
    "Draw, -£0.15(0%)\\\n",
    "Away win, -£28.11 (-10%)\n",
    "\n",
    "##### Always Favouite\n",
    "\n",
    "156/286 (55%), +£4.87 (+1.7%)\n",
    "\n",
    "\n",
    "##### Least Favouite\n",
    "\n",
    "51/286 (17.8%), -£23.85, (-8.4%)\n",
    "\n",
    "##### middle Favourite\n",
    "\n",
    "70/286 (24.5%), +£11.43 (+4%)"
   ]
  },
  {
   "cell_type": "markdown",
   "id": "73f2cbcc-8e88-45a6-a506-6d7d7bfaf4fd",
   "metadata": {},
   "source": [
    "###### Above or below 2.5 goals \n",
    "## Extracted Again 04052023\n",
    "\n",
    "##### Average Max Odds\n",
    "\n",
    "Above 2.5, 1.91\n",
    "Below 2.5. 2.15\n",
    "\n",
    "#### Average Average Odds\n",
    "\n",
    "Above 2.5, 1.84\n",
    "Below 2.5, 2.06\n",
    "\n",
    "#### Difference between Max and Average\n",
    "\n",
    "Above 2.5,0.068\n",
    "Below 2.5, 0.082"
   ]
  },
  {
   "cell_type": "markdown",
   "id": "f6f71335-072b-4c9a-822e-c796cd38228c",
   "metadata": {},
   "source": [
    "#### Naive Strategies\n",
    "\n",
    "\n"
   ]
  }
 ],
 "metadata": {
  "kernelspec": {
   "display_name": "Python 3 (ipykernel)",
   "language": "python",
   "name": "python3"
  },
  "language_info": {
   "codemirror_mode": {
    "name": "ipython",
    "version": 3
   },
   "file_extension": ".py",
   "mimetype": "text/x-python",
   "name": "python",
   "nbconvert_exporter": "python",
   "pygments_lexer": "ipython3",
   "version": "3.10.9"
  }
 },
 "nbformat": 4,
 "nbformat_minor": 5
}
